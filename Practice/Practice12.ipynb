{
 "cells": [
  {
   "cell_type": "code",
   "execution_count": 4,
   "metadata": {
    "collapsed": true
   },
   "outputs": [],
   "source": [
    "import pandas as pd\n",
    "from sklearn.preprocessing import LabelEncoder"
   ]
  },
  {
   "cell_type": "code",
   "execution_count": 5,
   "outputs": [
    {
     "data": {
      "text/plain": "      Order        PID  MS SubClass MS Zoning  Lot Frontage  Lot Area Street  \\\n0         1  526301100           20        RL         141.0     31770   Pave   \n1         2  526350040           20        RH          80.0     11622   Pave   \n2         3  526351010           20        RL          81.0     14267   Pave   \n3         4  526353030           20        RL          93.0     11160   Pave   \n4         5  527105010           60        RL          74.0     13830   Pave   \n...     ...        ...          ...       ...           ...       ...    ...   \n2925   2926  923275080           80        RL          37.0      7937   Pave   \n2926   2927  923276100           20        RL           NaN      8885   Pave   \n2927   2928  923400125           85        RL          62.0     10441   Pave   \n2928   2929  924100070           20        RL          77.0     10010   Pave   \n2929   2930  924151050           60        RL          74.0      9627   Pave   \n\n     Alley Lot Shape Land Contour  ... Pool Area Pool QC  Fence Misc Feature  \\\n0      NaN       IR1          Lvl  ...         0     NaN    NaN          NaN   \n1      NaN       Reg          Lvl  ...         0     NaN  MnPrv          NaN   \n2      NaN       IR1          Lvl  ...         0     NaN    NaN         Gar2   \n3      NaN       Reg          Lvl  ...         0     NaN    NaN          NaN   \n4      NaN       IR1          Lvl  ...         0     NaN  MnPrv          NaN   \n...    ...       ...          ...  ...       ...     ...    ...          ...   \n2925   NaN       IR1          Lvl  ...         0     NaN  GdPrv          NaN   \n2926   NaN       IR1          Low  ...         0     NaN  MnPrv          NaN   \n2927   NaN       Reg          Lvl  ...         0     NaN  MnPrv         Shed   \n2928   NaN       Reg          Lvl  ...         0     NaN    NaN          NaN   \n2929   NaN       Reg          Lvl  ...         0     NaN    NaN          NaN   \n\n     Misc Val Mo Sold Yr Sold Sale Type  Sale Condition  SalePrice  \n0           0       5    2010       WD           Normal     215000  \n1           0       6    2010       WD           Normal     105000  \n2       12500       6    2010       WD           Normal     172000  \n3           0       4    2010       WD           Normal     244000  \n4           0       3    2010       WD           Normal     189900  \n...       ...     ...     ...       ...             ...        ...  \n2925        0       3    2006       WD           Normal     142500  \n2926        0       6    2006       WD           Normal     131000  \n2927      700       7    2006       WD           Normal     132000  \n2928        0       4    2006       WD           Normal     170000  \n2929        0      11    2006       WD           Normal     188000  \n\n[2930 rows x 82 columns]",
      "text/html": "<div>\n<style scoped>\n    .dataframe tbody tr th:only-of-type {\n        vertical-align: middle;\n    }\n\n    .dataframe tbody tr th {\n        vertical-align: top;\n    }\n\n    .dataframe thead th {\n        text-align: right;\n    }\n</style>\n<table border=\"1\" class=\"dataframe\">\n  <thead>\n    <tr style=\"text-align: right;\">\n      <th></th>\n      <th>Order</th>\n      <th>PID</th>\n      <th>MS SubClass</th>\n      <th>MS Zoning</th>\n      <th>Lot Frontage</th>\n      <th>Lot Area</th>\n      <th>Street</th>\n      <th>Alley</th>\n      <th>Lot Shape</th>\n      <th>Land Contour</th>\n      <th>...</th>\n      <th>Pool Area</th>\n      <th>Pool QC</th>\n      <th>Fence</th>\n      <th>Misc Feature</th>\n      <th>Misc Val</th>\n      <th>Mo Sold</th>\n      <th>Yr Sold</th>\n      <th>Sale Type</th>\n      <th>Sale Condition</th>\n      <th>SalePrice</th>\n    </tr>\n  </thead>\n  <tbody>\n    <tr>\n      <th>0</th>\n      <td>1</td>\n      <td>526301100</td>\n      <td>20</td>\n      <td>RL</td>\n      <td>141.0</td>\n      <td>31770</td>\n      <td>Pave</td>\n      <td>NaN</td>\n      <td>IR1</td>\n      <td>Lvl</td>\n      <td>...</td>\n      <td>0</td>\n      <td>NaN</td>\n      <td>NaN</td>\n      <td>NaN</td>\n      <td>0</td>\n      <td>5</td>\n      <td>2010</td>\n      <td>WD</td>\n      <td>Normal</td>\n      <td>215000</td>\n    </tr>\n    <tr>\n      <th>1</th>\n      <td>2</td>\n      <td>526350040</td>\n      <td>20</td>\n      <td>RH</td>\n      <td>80.0</td>\n      <td>11622</td>\n      <td>Pave</td>\n      <td>NaN</td>\n      <td>Reg</td>\n      <td>Lvl</td>\n      <td>...</td>\n      <td>0</td>\n      <td>NaN</td>\n      <td>MnPrv</td>\n      <td>NaN</td>\n      <td>0</td>\n      <td>6</td>\n      <td>2010</td>\n      <td>WD</td>\n      <td>Normal</td>\n      <td>105000</td>\n    </tr>\n    <tr>\n      <th>2</th>\n      <td>3</td>\n      <td>526351010</td>\n      <td>20</td>\n      <td>RL</td>\n      <td>81.0</td>\n      <td>14267</td>\n      <td>Pave</td>\n      <td>NaN</td>\n      <td>IR1</td>\n      <td>Lvl</td>\n      <td>...</td>\n      <td>0</td>\n      <td>NaN</td>\n      <td>NaN</td>\n      <td>Gar2</td>\n      <td>12500</td>\n      <td>6</td>\n      <td>2010</td>\n      <td>WD</td>\n      <td>Normal</td>\n      <td>172000</td>\n    </tr>\n    <tr>\n      <th>3</th>\n      <td>4</td>\n      <td>526353030</td>\n      <td>20</td>\n      <td>RL</td>\n      <td>93.0</td>\n      <td>11160</td>\n      <td>Pave</td>\n      <td>NaN</td>\n      <td>Reg</td>\n      <td>Lvl</td>\n      <td>...</td>\n      <td>0</td>\n      <td>NaN</td>\n      <td>NaN</td>\n      <td>NaN</td>\n      <td>0</td>\n      <td>4</td>\n      <td>2010</td>\n      <td>WD</td>\n      <td>Normal</td>\n      <td>244000</td>\n    </tr>\n    <tr>\n      <th>4</th>\n      <td>5</td>\n      <td>527105010</td>\n      <td>60</td>\n      <td>RL</td>\n      <td>74.0</td>\n      <td>13830</td>\n      <td>Pave</td>\n      <td>NaN</td>\n      <td>IR1</td>\n      <td>Lvl</td>\n      <td>...</td>\n      <td>0</td>\n      <td>NaN</td>\n      <td>MnPrv</td>\n      <td>NaN</td>\n      <td>0</td>\n      <td>3</td>\n      <td>2010</td>\n      <td>WD</td>\n      <td>Normal</td>\n      <td>189900</td>\n    </tr>\n    <tr>\n      <th>...</th>\n      <td>...</td>\n      <td>...</td>\n      <td>...</td>\n      <td>...</td>\n      <td>...</td>\n      <td>...</td>\n      <td>...</td>\n      <td>...</td>\n      <td>...</td>\n      <td>...</td>\n      <td>...</td>\n      <td>...</td>\n      <td>...</td>\n      <td>...</td>\n      <td>...</td>\n      <td>...</td>\n      <td>...</td>\n      <td>...</td>\n      <td>...</td>\n      <td>...</td>\n      <td>...</td>\n    </tr>\n    <tr>\n      <th>2925</th>\n      <td>2926</td>\n      <td>923275080</td>\n      <td>80</td>\n      <td>RL</td>\n      <td>37.0</td>\n      <td>7937</td>\n      <td>Pave</td>\n      <td>NaN</td>\n      <td>IR1</td>\n      <td>Lvl</td>\n      <td>...</td>\n      <td>0</td>\n      <td>NaN</td>\n      <td>GdPrv</td>\n      <td>NaN</td>\n      <td>0</td>\n      <td>3</td>\n      <td>2006</td>\n      <td>WD</td>\n      <td>Normal</td>\n      <td>142500</td>\n    </tr>\n    <tr>\n      <th>2926</th>\n      <td>2927</td>\n      <td>923276100</td>\n      <td>20</td>\n      <td>RL</td>\n      <td>NaN</td>\n      <td>8885</td>\n      <td>Pave</td>\n      <td>NaN</td>\n      <td>IR1</td>\n      <td>Low</td>\n      <td>...</td>\n      <td>0</td>\n      <td>NaN</td>\n      <td>MnPrv</td>\n      <td>NaN</td>\n      <td>0</td>\n      <td>6</td>\n      <td>2006</td>\n      <td>WD</td>\n      <td>Normal</td>\n      <td>131000</td>\n    </tr>\n    <tr>\n      <th>2927</th>\n      <td>2928</td>\n      <td>923400125</td>\n      <td>85</td>\n      <td>RL</td>\n      <td>62.0</td>\n      <td>10441</td>\n      <td>Pave</td>\n      <td>NaN</td>\n      <td>Reg</td>\n      <td>Lvl</td>\n      <td>...</td>\n      <td>0</td>\n      <td>NaN</td>\n      <td>MnPrv</td>\n      <td>Shed</td>\n      <td>700</td>\n      <td>7</td>\n      <td>2006</td>\n      <td>WD</td>\n      <td>Normal</td>\n      <td>132000</td>\n    </tr>\n    <tr>\n      <th>2928</th>\n      <td>2929</td>\n      <td>924100070</td>\n      <td>20</td>\n      <td>RL</td>\n      <td>77.0</td>\n      <td>10010</td>\n      <td>Pave</td>\n      <td>NaN</td>\n      <td>Reg</td>\n      <td>Lvl</td>\n      <td>...</td>\n      <td>0</td>\n      <td>NaN</td>\n      <td>NaN</td>\n      <td>NaN</td>\n      <td>0</td>\n      <td>4</td>\n      <td>2006</td>\n      <td>WD</td>\n      <td>Normal</td>\n      <td>170000</td>\n    </tr>\n    <tr>\n      <th>2929</th>\n      <td>2930</td>\n      <td>924151050</td>\n      <td>60</td>\n      <td>RL</td>\n      <td>74.0</td>\n      <td>9627</td>\n      <td>Pave</td>\n      <td>NaN</td>\n      <td>Reg</td>\n      <td>Lvl</td>\n      <td>...</td>\n      <td>0</td>\n      <td>NaN</td>\n      <td>NaN</td>\n      <td>NaN</td>\n      <td>0</td>\n      <td>11</td>\n      <td>2006</td>\n      <td>WD</td>\n      <td>Normal</td>\n      <td>188000</td>\n    </tr>\n  </tbody>\n</table>\n<p>2930 rows × 82 columns</p>\n</div>"
     },
     "execution_count": 5,
     "metadata": {},
     "output_type": "execute_result"
    }
   ],
   "source": [
    "dataframe = pd.read_csv(\"PracticeData/AmesHousing.csv\")\n",
    "dataframe"
   ],
   "metadata": {
    "collapsed": false,
    "pycharm": {
     "name": "#%%\n"
    }
   }
  },
  {
   "cell_type": "code",
   "execution_count": 6,
   "outputs": [
    {
     "data": {
      "text/plain": "     Kitchen Qual Bldg Type\n0              TA      1Fam\n1              TA      1Fam\n2              Gd      1Fam\n3              Ex      1Fam\n4              TA      1Fam\n...           ...       ...\n2925           TA      1Fam\n2926           TA      1Fam\n2927           TA      1Fam\n2928           TA      1Fam\n2929           TA      1Fam\n\n[2930 rows x 2 columns]",
      "text/html": "<div>\n<style scoped>\n    .dataframe tbody tr th:only-of-type {\n        vertical-align: middle;\n    }\n\n    .dataframe tbody tr th {\n        vertical-align: top;\n    }\n\n    .dataframe thead th {\n        text-align: right;\n    }\n</style>\n<table border=\"1\" class=\"dataframe\">\n  <thead>\n    <tr style=\"text-align: right;\">\n      <th></th>\n      <th>Kitchen Qual</th>\n      <th>Bldg Type</th>\n    </tr>\n  </thead>\n  <tbody>\n    <tr>\n      <th>0</th>\n      <td>TA</td>\n      <td>1Fam</td>\n    </tr>\n    <tr>\n      <th>1</th>\n      <td>TA</td>\n      <td>1Fam</td>\n    </tr>\n    <tr>\n      <th>2</th>\n      <td>Gd</td>\n      <td>1Fam</td>\n    </tr>\n    <tr>\n      <th>3</th>\n      <td>Ex</td>\n      <td>1Fam</td>\n    </tr>\n    <tr>\n      <th>4</th>\n      <td>TA</td>\n      <td>1Fam</td>\n    </tr>\n    <tr>\n      <th>...</th>\n      <td>...</td>\n      <td>...</td>\n    </tr>\n    <tr>\n      <th>2925</th>\n      <td>TA</td>\n      <td>1Fam</td>\n    </tr>\n    <tr>\n      <th>2926</th>\n      <td>TA</td>\n      <td>1Fam</td>\n    </tr>\n    <tr>\n      <th>2927</th>\n      <td>TA</td>\n      <td>1Fam</td>\n    </tr>\n    <tr>\n      <th>2928</th>\n      <td>TA</td>\n      <td>1Fam</td>\n    </tr>\n    <tr>\n      <th>2929</th>\n      <td>TA</td>\n      <td>1Fam</td>\n    </tr>\n  </tbody>\n</table>\n<p>2930 rows × 2 columns</p>\n</div>"
     },
     "execution_count": 6,
     "metadata": {},
     "output_type": "execute_result"
    }
   ],
   "source": [
    "dataframe2 = dataframe[['Kitchen Qual', 'Bldg Type']]\n",
    "dataframe2"
   ],
   "metadata": {
    "collapsed": false,
    "pycharm": {
     "name": "#%%\n"
    }
   }
  },
  {
   "cell_type": "code",
   "execution_count": 10,
   "outputs": [
    {
     "name": "stderr",
     "output_type": "stream",
     "text": [
      "<ipython-input-10-d914b8b44f7e>:2: SettingWithCopyWarning: \n",
      "A value is trying to be set on a copy of a slice from a DataFrame.\n",
      "Try using .loc[row_indexer,col_indexer] = value instead\n",
      "\n",
      "See the caveats in the documentation: https://pandas.pydata.org/pandas-docs/stable/user_guide/indexing.html#returning-a-view-versus-a-copy\n",
      "  dataframe2['Bldg Type Encoded'] = label_encoder.fit_transform(dataframe['Bldg Type'])\n"
     ]
    },
    {
     "data": {
      "text/plain": "   Kitchen Qual Bldg Type  Bldg Type Encoded\n0            TA      1Fam                  0\n1            TA      1Fam                  0\n2            Gd      1Fam                  0\n3            Ex      1Fam                  0\n4            TA      1Fam                  0\n..          ...       ...                ...\n95           Gd    TwnhsE                  4\n96           Gd    TwnhsE                  4\n97           Gd     Twnhs                  3\n98           Gd     Twnhs                  3\n99           Gd      1Fam                  0\n\n[100 rows x 3 columns]",
      "text/html": "<div>\n<style scoped>\n    .dataframe tbody tr th:only-of-type {\n        vertical-align: middle;\n    }\n\n    .dataframe tbody tr th {\n        vertical-align: top;\n    }\n\n    .dataframe thead th {\n        text-align: right;\n    }\n</style>\n<table border=\"1\" class=\"dataframe\">\n  <thead>\n    <tr style=\"text-align: right;\">\n      <th></th>\n      <th>Kitchen Qual</th>\n      <th>Bldg Type</th>\n      <th>Bldg Type Encoded</th>\n    </tr>\n  </thead>\n  <tbody>\n    <tr>\n      <th>0</th>\n      <td>TA</td>\n      <td>1Fam</td>\n      <td>0</td>\n    </tr>\n    <tr>\n      <th>1</th>\n      <td>TA</td>\n      <td>1Fam</td>\n      <td>0</td>\n    </tr>\n    <tr>\n      <th>2</th>\n      <td>Gd</td>\n      <td>1Fam</td>\n      <td>0</td>\n    </tr>\n    <tr>\n      <th>3</th>\n      <td>Ex</td>\n      <td>1Fam</td>\n      <td>0</td>\n    </tr>\n    <tr>\n      <th>4</th>\n      <td>TA</td>\n      <td>1Fam</td>\n      <td>0</td>\n    </tr>\n    <tr>\n      <th>...</th>\n      <td>...</td>\n      <td>...</td>\n      <td>...</td>\n    </tr>\n    <tr>\n      <th>95</th>\n      <td>Gd</td>\n      <td>TwnhsE</td>\n      <td>4</td>\n    </tr>\n    <tr>\n      <th>96</th>\n      <td>Gd</td>\n      <td>TwnhsE</td>\n      <td>4</td>\n    </tr>\n    <tr>\n      <th>97</th>\n      <td>Gd</td>\n      <td>Twnhs</td>\n      <td>3</td>\n    </tr>\n    <tr>\n      <th>98</th>\n      <td>Gd</td>\n      <td>Twnhs</td>\n      <td>3</td>\n    </tr>\n    <tr>\n      <th>99</th>\n      <td>Gd</td>\n      <td>1Fam</td>\n      <td>0</td>\n    </tr>\n  </tbody>\n</table>\n<p>100 rows × 3 columns</p>\n</div>"
     },
     "execution_count": 10,
     "metadata": {},
     "output_type": "execute_result"
    }
   ],
   "source": [
    "label_encoder = LabelEncoder()\n",
    "dataframe2['Bldg Type Encoded'] = label_encoder.fit_transform(dataframe['Bldg Type'])\n",
    "dataframe2"
   ],
   "metadata": {
    "collapsed": false,
    "pycharm": {
     "name": "#%%\n"
    }
   }
  },
  {
   "cell_type": "code",
   "execution_count": 11,
   "outputs": [
    {
     "data": {
      "text/plain": "1Fam      2425\nTwnhsE     233\nDuplex     109\nTwnhs      101\n2fmCon      62\nName: Bldg Type, dtype: int64"
     },
     "execution_count": 11,
     "metadata": {},
     "output_type": "execute_result"
    }
   ],
   "source": [
    "dataframe['Bldg Type'].value_counts()"
   ],
   "metadata": {
    "collapsed": false,
    "pycharm": {
     "name": "#%%\n"
    }
   }
  },
  {
   "cell_type": "code",
   "execution_count": 12,
   "outputs": [
    {
     "data": {
      "text/plain": "TA    1494\nGd    1160\nEx     205\nFa      70\nPo       1\nName: Kitchen Qual, dtype: int64"
     },
     "execution_count": 12,
     "metadata": {},
     "output_type": "execute_result"
    }
   ],
   "source": [
    "dataframe['Kitchen Qual'].value_counts()"
   ],
   "metadata": {
    "collapsed": false,
    "pycharm": {
     "name": "#%%\n"
    }
   }
  },
  {
   "cell_type": "code",
   "execution_count": 13,
   "outputs": [
    {
     "name": "stderr",
     "output_type": "stream",
     "text": [
      "<ipython-input-13-602daa0d9b97>:8: SettingWithCopyWarning: \n",
      "A value is trying to be set on a copy of a slice from a DataFrame.\n",
      "Try using .loc[row_indexer,col_indexer] = value instead\n",
      "\n",
      "See the caveats in the documentation: https://pandas.pydata.org/pandas-docs/stable/user_guide/indexing.html#returning-a-view-versus-a-copy\n",
      "  dataframe2['Kitchen Qual Encoded'] = dataframe2['Kitchen Qual'].map(order)\n"
     ]
    },
    {
     "data": {
      "text/plain": "     Kitchen Qual Bldg Type  Bldg Type Encoded  Kitchen Qual Encoded\n0              TA      1Fam                  0                     2\n1              TA      1Fam                  0                     2\n2              Gd      1Fam                  0                     3\n3              Ex      1Fam                  0                     4\n4              TA      1Fam                  0                     2\n...           ...       ...                ...                   ...\n2925           TA      1Fam                  0                     2\n2926           TA      1Fam                  0                     2\n2927           TA      1Fam                  0                     2\n2928           TA      1Fam                  0                     2\n2929           TA      1Fam                  0                     2\n\n[2930 rows x 4 columns]",
      "text/html": "<div>\n<style scoped>\n    .dataframe tbody tr th:only-of-type {\n        vertical-align: middle;\n    }\n\n    .dataframe tbody tr th {\n        vertical-align: top;\n    }\n\n    .dataframe thead th {\n        text-align: right;\n    }\n</style>\n<table border=\"1\" class=\"dataframe\">\n  <thead>\n    <tr style=\"text-align: right;\">\n      <th></th>\n      <th>Kitchen Qual</th>\n      <th>Bldg Type</th>\n      <th>Bldg Type Encoded</th>\n      <th>Kitchen Qual Encoded</th>\n    </tr>\n  </thead>\n  <tbody>\n    <tr>\n      <th>0</th>\n      <td>TA</td>\n      <td>1Fam</td>\n      <td>0</td>\n      <td>2</td>\n    </tr>\n    <tr>\n      <th>1</th>\n      <td>TA</td>\n      <td>1Fam</td>\n      <td>0</td>\n      <td>2</td>\n    </tr>\n    <tr>\n      <th>2</th>\n      <td>Gd</td>\n      <td>1Fam</td>\n      <td>0</td>\n      <td>3</td>\n    </tr>\n    <tr>\n      <th>3</th>\n      <td>Ex</td>\n      <td>1Fam</td>\n      <td>0</td>\n      <td>4</td>\n    </tr>\n    <tr>\n      <th>4</th>\n      <td>TA</td>\n      <td>1Fam</td>\n      <td>0</td>\n      <td>2</td>\n    </tr>\n    <tr>\n      <th>...</th>\n      <td>...</td>\n      <td>...</td>\n      <td>...</td>\n      <td>...</td>\n    </tr>\n    <tr>\n      <th>2925</th>\n      <td>TA</td>\n      <td>1Fam</td>\n      <td>0</td>\n      <td>2</td>\n    </tr>\n    <tr>\n      <th>2926</th>\n      <td>TA</td>\n      <td>1Fam</td>\n      <td>0</td>\n      <td>2</td>\n    </tr>\n    <tr>\n      <th>2927</th>\n      <td>TA</td>\n      <td>1Fam</td>\n      <td>0</td>\n      <td>2</td>\n    </tr>\n    <tr>\n      <th>2928</th>\n      <td>TA</td>\n      <td>1Fam</td>\n      <td>0</td>\n      <td>2</td>\n    </tr>\n    <tr>\n      <th>2929</th>\n      <td>TA</td>\n      <td>1Fam</td>\n      <td>0</td>\n      <td>2</td>\n    </tr>\n  </tbody>\n</table>\n<p>2930 rows × 4 columns</p>\n</div>"
     },
     "execution_count": 13,
     "metadata": {},
     "output_type": "execute_result"
    }
   ],
   "source": [
    "order = {\n",
    "    \"Ex\":4,\n",
    "    \"Gd\":3,\n",
    "    \"TA\":2,\n",
    "    \"Fa\":1,\n",
    "    \"Po\":0\n",
    "}\n",
    "dataframe2['Kitchen Qual Encoded'] = dataframe2['Kitchen Qual'].map(order)\n",
    "dataframe2"
   ],
   "metadata": {
    "collapsed": false,
    "pycharm": {
     "name": "#%%\n"
    }
   }
  },
  {
   "cell_type": "code",
   "execution_count": null,
   "outputs": [],
   "source": [],
   "metadata": {
    "collapsed": false,
    "pycharm": {
     "name": "#%%\n"
    }
   }
  }
 ],
 "metadata": {
  "kernelspec": {
   "display_name": "Python 3",
   "language": "python",
   "name": "python3"
  },
  "language_info": {
   "codemirror_mode": {
    "name": "ipython",
    "version": 2
   },
   "file_extension": ".py",
   "mimetype": "text/x-python",
   "name": "python",
   "nbconvert_exporter": "python",
   "pygments_lexer": "ipython2",
   "version": "2.7.6"
  }
 },
 "nbformat": 4,
 "nbformat_minor": 0
}