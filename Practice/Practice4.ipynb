{
 "cells": [
  {
   "cell_type": "code",
   "execution_count": 3,
   "metadata": {
    "collapsed": true
   },
   "outputs": [],
   "source": [
    "import pandas as pd\n",
    "import numpy as np"
   ]
  },
  {
   "cell_type": "code",
   "execution_count": 4,
   "outputs": [],
   "source": [
    "data = {\n",
    "    'name':[\"Ali\", \"Umair\", \"Ahmad\"],\n",
    "    'age':[22,25,20]\n",
    "}"
   ],
   "metadata": {
    "collapsed": false,
    "pycharm": {
     "name": "#%%\n"
    }
   }
  },
  {
   "cell_type": "code",
   "execution_count": 8,
   "outputs": [
    {
     "name": "stdout",
     "output_type": "stream",
     "text": [
      "    name  age\n",
      "a    Ali   22\n",
      "b  Umair   25\n",
      "c  Ahmad   20\n"
     ]
    }
   ],
   "source": [
    "dataframe_send = pd.DataFrame(data, index=['a','b','c'])\n",
    "print(dataframe_send)"
   ],
   "metadata": {
    "collapsed": false,
    "pycharm": {
     "name": "#%%\n"
    }
   }
  },
  {
   "cell_type": "code",
   "execution_count": 9,
   "outputs": [
    {
     "data": {
      "text/plain": "name    Umair\nage        25\nName: b, dtype: object"
     },
     "execution_count": 9,
     "metadata": {},
     "output_type": "execute_result"
    }
   ],
   "source": [
    "dataframe_send.loc['b']"
   ],
   "metadata": {
    "collapsed": false,
    "pycharm": {
     "name": "#%%\n"
    }
   }
  },
  {
   "cell_type": "code",
   "execution_count": 13,
   "outputs": [],
   "source": [
    "dataframe_send.to_csv(\"PracticeData\\Practice4.csv\")"
   ],
   "metadata": {
    "collapsed": false,
    "pycharm": {
     "name": "#%%\n"
    }
   }
  },
  {
   "cell_type": "code",
   "execution_count": 21,
   "outputs": [],
   "source": [
    "dataframe_get = pd.read_csv(\"PracticeData\\Practice4.csv\", index_col=0)"
   ],
   "metadata": {
    "collapsed": false,
    "pycharm": {
     "name": "#%%\n"
    }
   }
  },
  {
   "cell_type": "code",
   "execution_count": 22,
   "outputs": [
    {
     "name": "stdout",
     "output_type": "stream",
     "text": [
      "    name  age\n",
      "a    Ali   22\n",
      "b  Umair   25\n",
      "c  Ahmad   20\n"
     ]
    }
   ],
   "source": [
    "print(dataframe_get)"
   ],
   "metadata": {
    "collapsed": false,
    "pycharm": {
     "name": "#%%\n"
    }
   }
  },
  {
   "cell_type": "code",
   "execution_count": 30,
   "outputs": [
    {
     "name": "stdout",
     "output_type": "stream",
     "text": [
      "   0  1  2  3  4  5  6  7  8  9\n",
      "0  5  5  8  5  6  6  5  8  8  3\n",
      "1  6  3  7  7  4  7  5  1  2  6\n",
      "2  7  5  4  7  2  2  8  6  3  5\n",
      "3  1  2  7  9  5  1  9  6  8  2\n",
      "4  7  1  3  6  8  8  1  3  2  7\n",
      "5  8  6  3  7  8  2  4  8  5  9\n",
      "6  6  4  1  8  6  5  9  1  8  3\n",
      "7  3  6  6  1  3  5  8  5  8  2\n",
      "8  2  2  3  7  7  2  8  4  2  1\n",
      "9  7  7  9  2  1  6  6  2  3  1\n",
      "<class 'pandas.core.frame.DataFrame'>\n"
     ]
    }
   ],
   "source": [
    "dataframe_func = pd.DataFrame(np.random.randint(1,10,size=(10,10)))\n",
    "print(dataframe_func)\n",
    "print(type(dataframe_func))"
   ],
   "metadata": {
    "collapsed": false,
    "pycharm": {
     "name": "#%%\n"
    }
   }
  },
  {
   "cell_type": "code",
   "execution_count": null,
   "outputs": [],
   "source": [],
   "metadata": {
    "collapsed": false,
    "pycharm": {
     "name": "#%%\n"
    }
   }
  }
 ],
 "metadata": {
  "kernelspec": {
   "display_name": "Python 3",
   "language": "python",
   "name": "python3"
  },
  "language_info": {
   "codemirror_mode": {
    "name": "ipython",
    "version": 2
   },
   "file_extension": ".py",
   "mimetype": "text/x-python",
   "name": "python",
   "nbconvert_exporter": "python",
   "pygments_lexer": "ipython2",
   "version": "2.7.6"
  }
 },
 "nbformat": 4,
 "nbformat_minor": 0
}