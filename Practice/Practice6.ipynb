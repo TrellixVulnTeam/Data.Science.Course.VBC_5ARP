{
 "cells": [
  {
   "cell_type": "code",
   "execution_count": 2,
   "outputs": [],
   "source": [
    "#import numpy as np\n",
    "import pandas as pd"
   ],
   "metadata": {
    "collapsed": false,
    "pycharm": {
     "name": "#%%\n"
    }
   }
  },
  {
   "cell_type": "code",
   "execution_count": 3,
   "outputs": [],
   "source": [
    "dataframe = pd.read_csv(\"Test_Data/IMDB-Movie-Data.csv\", index_col=\"Title\")\n"
   ],
   "metadata": {
    "collapsed": false,
    "pycharm": {
     "name": "#%%\n"
    }
   }
  },
  {
   "cell_type": "code",
   "execution_count": 4,
   "outputs": [
    {
     "data": {
      "text/plain": "                         Rank                     Genre  \\\nTitle                                                     \nGuardians of the Galaxy     1   Action,Adventure,Sci-Fi   \nPrometheus                  2  Adventure,Mystery,Sci-Fi   \nSplit                       3           Horror,Thriller   \nSing                        4   Animation,Comedy,Family   \nSuicide Squad               5  Action,Adventure,Fantasy   \n\n                                                               Description  \\\nTitle                                                                        \nGuardians of the Galaxy  A group of intergalactic criminals are forced ...   \nPrometheus               Following clues to the origin of mankind, a te...   \nSplit                    Three girls are kidnapped by a man with a diag...   \nSing                     In a city of humanoid animals, a hustling thea...   \nSuicide Squad            A secret government agency recruits some of th...   \n\n                                     Director  \\\nTitle                                           \nGuardians of the Galaxy            James Gunn   \nPrometheus                       Ridley Scott   \nSplit                      M. Night Shyamalan   \nSing                     Christophe Lourdelet   \nSuicide Squad                      David Ayer   \n\n                                                                    Actors  \\\nTitle                                                                        \nGuardians of the Galaxy  Chris Pratt, Vin Diesel, Bradley Cooper, Zoe S...   \nPrometheus               Noomi Rapace, Logan Marshall-Green, Michael Fa...   \nSplit                    James McAvoy, Anya Taylor-Joy, Haley Lu Richar...   \nSing                     Matthew McConaughey,Reese Witherspoon, Seth Ma...   \nSuicide Squad            Will Smith, Jared Leto, Margot Robbie, Viola D...   \n\n                         Year  Runtime (Minutes)  Rating   Votes  \\\nTitle                                                              \nGuardians of the Galaxy  2014                121     8.1  757074   \nPrometheus               2012                124     7.0  485820   \nSplit                    2016                117     7.3  157606   \nSing                     2016                108     7.2   60545   \nSuicide Squad            2016                123     6.2  393727   \n\n                         Revenue (Millions)  Metascore  \nTitle                                                   \nGuardians of the Galaxy              333.13       76.0  \nPrometheus                           126.46       65.0  \nSplit                                138.12       62.0  \nSing                                 270.32       59.0  \nSuicide Squad                        325.02       40.0  ",
      "text/html": "<div>\n<style scoped>\n    .dataframe tbody tr th:only-of-type {\n        vertical-align: middle;\n    }\n\n    .dataframe tbody tr th {\n        vertical-align: top;\n    }\n\n    .dataframe thead th {\n        text-align: right;\n    }\n</style>\n<table border=\"1\" class=\"dataframe\">\n  <thead>\n    <tr style=\"text-align: right;\">\n      <th></th>\n      <th>Rank</th>\n      <th>Genre</th>\n      <th>Description</th>\n      <th>Director</th>\n      <th>Actors</th>\n      <th>Year</th>\n      <th>Runtime (Minutes)</th>\n      <th>Rating</th>\n      <th>Votes</th>\n      <th>Revenue (Millions)</th>\n      <th>Metascore</th>\n    </tr>\n    <tr>\n      <th>Title</th>\n      <th></th>\n      <th></th>\n      <th></th>\n      <th></th>\n      <th></th>\n      <th></th>\n      <th></th>\n      <th></th>\n      <th></th>\n      <th></th>\n      <th></th>\n    </tr>\n  </thead>\n  <tbody>\n    <tr>\n      <th>Guardians of the Galaxy</th>\n      <td>1</td>\n      <td>Action,Adventure,Sci-Fi</td>\n      <td>A group of intergalactic criminals are forced ...</td>\n      <td>James Gunn</td>\n      <td>Chris Pratt, Vin Diesel, Bradley Cooper, Zoe S...</td>\n      <td>2014</td>\n      <td>121</td>\n      <td>8.1</td>\n      <td>757074</td>\n      <td>333.13</td>\n      <td>76.0</td>\n    </tr>\n    <tr>\n      <th>Prometheus</th>\n      <td>2</td>\n      <td>Adventure,Mystery,Sci-Fi</td>\n      <td>Following clues to the origin of mankind, a te...</td>\n      <td>Ridley Scott</td>\n      <td>Noomi Rapace, Logan Marshall-Green, Michael Fa...</td>\n      <td>2012</td>\n      <td>124</td>\n      <td>7.0</td>\n      <td>485820</td>\n      <td>126.46</td>\n      <td>65.0</td>\n    </tr>\n    <tr>\n      <th>Split</th>\n      <td>3</td>\n      <td>Horror,Thriller</td>\n      <td>Three girls are kidnapped by a man with a diag...</td>\n      <td>M. Night Shyamalan</td>\n      <td>James McAvoy, Anya Taylor-Joy, Haley Lu Richar...</td>\n      <td>2016</td>\n      <td>117</td>\n      <td>7.3</td>\n      <td>157606</td>\n      <td>138.12</td>\n      <td>62.0</td>\n    </tr>\n    <tr>\n      <th>Sing</th>\n      <td>4</td>\n      <td>Animation,Comedy,Family</td>\n      <td>In a city of humanoid animals, a hustling thea...</td>\n      <td>Christophe Lourdelet</td>\n      <td>Matthew McConaughey,Reese Witherspoon, Seth Ma...</td>\n      <td>2016</td>\n      <td>108</td>\n      <td>7.2</td>\n      <td>60545</td>\n      <td>270.32</td>\n      <td>59.0</td>\n    </tr>\n    <tr>\n      <th>Suicide Squad</th>\n      <td>5</td>\n      <td>Action,Adventure,Fantasy</td>\n      <td>A secret government agency recruits some of th...</td>\n      <td>David Ayer</td>\n      <td>Will Smith, Jared Leto, Margot Robbie, Viola D...</td>\n      <td>2016</td>\n      <td>123</td>\n      <td>6.2</td>\n      <td>393727</td>\n      <td>325.02</td>\n      <td>40.0</td>\n    </tr>\n  </tbody>\n</table>\n</div>"
     },
     "execution_count": 4,
     "metadata": {},
     "output_type": "execute_result"
    }
   ],
   "source": [
    "dataframe.head()\n"
   ],
   "metadata": {
    "collapsed": false,
    "pycharm": {
     "name": "#%%\n"
    }
   }
  },
  {
   "cell_type": "code",
   "execution_count": 5,
   "outputs": [
    {
     "data": {
      "text/plain": "                        Rank                  Genre  \\\nTitle                                                 \nSecret in Their Eyes     996    Crime,Drama,Mystery   \nHostel: Part II          997                 Horror   \nStep Up 2: The Streets   998    Drama,Music,Romance   \nSearch Party             999       Adventure,Comedy   \nNine Lives              1000  Comedy,Family,Fantasy   \n\n                                                              Description  \\\nTitle                                                                       \nSecret in Their Eyes    A tight-knit team of rising investigators, alo...   \nHostel: Part II         Three American college students studying abroa...   \nStep Up 2: The Streets  Romantic sparks occur between two dance studen...   \nSearch Party            A pair of friends embark on a mission to reuni...   \nNine Lives              A stuffy businessman finds himself trapped ins...   \n\n                                Director  \\\nTitle                                      \nSecret in Their Eyes           Billy Ray   \nHostel: Part II                 Eli Roth   \nStep Up 2: The Streets        Jon M. Chu   \nSearch Party              Scot Armstrong   \nNine Lives              Barry Sonnenfeld   \n\n                                                                   Actors  \\\nTitle                                                                       \nSecret in Their Eyes    Chiwetel Ejiofor, Nicole Kidman, Julia Roberts...   \nHostel: Part II         Lauren German, Heather Matarazzo, Bijou Philli...   \nStep Up 2: The Streets  Robert Hoffman, Briana Evigan, Cassie Ventura,...   \nSearch Party            Adam Pally, T.J. Miller, Thomas Middleditch,Sh...   \nNine Lives              Kevin Spacey, Jennifer Garner, Robbie Amell,Ch...   \n\n                        Year  Runtime (Minutes)  Rating  Votes  \\\nTitle                                                            \nSecret in Their Eyes    2015                111     6.2  27585   \nHostel: Part II         2007                 94     5.5  73152   \nStep Up 2: The Streets  2008                 98     6.2  70699   \nSearch Party            2014                 93     5.6   4881   \nNine Lives              2016                 87     5.3  12435   \n\n                        Revenue (Millions)  Metascore  \nTitle                                                  \nSecret in Their Eyes                   NaN       45.0  \nHostel: Part II                      17.54       46.0  \nStep Up 2: The Streets               58.01       50.0  \nSearch Party                           NaN       22.0  \nNine Lives                           19.64       11.0  ",
      "text/html": "<div>\n<style scoped>\n    .dataframe tbody tr th:only-of-type {\n        vertical-align: middle;\n    }\n\n    .dataframe tbody tr th {\n        vertical-align: top;\n    }\n\n    .dataframe thead th {\n        text-align: right;\n    }\n</style>\n<table border=\"1\" class=\"dataframe\">\n  <thead>\n    <tr style=\"text-align: right;\">\n      <th></th>\n      <th>Rank</th>\n      <th>Genre</th>\n      <th>Description</th>\n      <th>Director</th>\n      <th>Actors</th>\n      <th>Year</th>\n      <th>Runtime (Minutes)</th>\n      <th>Rating</th>\n      <th>Votes</th>\n      <th>Revenue (Millions)</th>\n      <th>Metascore</th>\n    </tr>\n    <tr>\n      <th>Title</th>\n      <th></th>\n      <th></th>\n      <th></th>\n      <th></th>\n      <th></th>\n      <th></th>\n      <th></th>\n      <th></th>\n      <th></th>\n      <th></th>\n      <th></th>\n    </tr>\n  </thead>\n  <tbody>\n    <tr>\n      <th>Secret in Their Eyes</th>\n      <td>996</td>\n      <td>Crime,Drama,Mystery</td>\n      <td>A tight-knit team of rising investigators, alo...</td>\n      <td>Billy Ray</td>\n      <td>Chiwetel Ejiofor, Nicole Kidman, Julia Roberts...</td>\n      <td>2015</td>\n      <td>111</td>\n      <td>6.2</td>\n      <td>27585</td>\n      <td>NaN</td>\n      <td>45.0</td>\n    </tr>\n    <tr>\n      <th>Hostel: Part II</th>\n      <td>997</td>\n      <td>Horror</td>\n      <td>Three American college students studying abroa...</td>\n      <td>Eli Roth</td>\n      <td>Lauren German, Heather Matarazzo, Bijou Philli...</td>\n      <td>2007</td>\n      <td>94</td>\n      <td>5.5</td>\n      <td>73152</td>\n      <td>17.54</td>\n      <td>46.0</td>\n    </tr>\n    <tr>\n      <th>Step Up 2: The Streets</th>\n      <td>998</td>\n      <td>Drama,Music,Romance</td>\n      <td>Romantic sparks occur between two dance studen...</td>\n      <td>Jon M. Chu</td>\n      <td>Robert Hoffman, Briana Evigan, Cassie Ventura,...</td>\n      <td>2008</td>\n      <td>98</td>\n      <td>6.2</td>\n      <td>70699</td>\n      <td>58.01</td>\n      <td>50.0</td>\n    </tr>\n    <tr>\n      <th>Search Party</th>\n      <td>999</td>\n      <td>Adventure,Comedy</td>\n      <td>A pair of friends embark on a mission to reuni...</td>\n      <td>Scot Armstrong</td>\n      <td>Adam Pally, T.J. Miller, Thomas Middleditch,Sh...</td>\n      <td>2014</td>\n      <td>93</td>\n      <td>5.6</td>\n      <td>4881</td>\n      <td>NaN</td>\n      <td>22.0</td>\n    </tr>\n    <tr>\n      <th>Nine Lives</th>\n      <td>1000</td>\n      <td>Comedy,Family,Fantasy</td>\n      <td>A stuffy businessman finds himself trapped ins...</td>\n      <td>Barry Sonnenfeld</td>\n      <td>Kevin Spacey, Jennifer Garner, Robbie Amell,Ch...</td>\n      <td>2016</td>\n      <td>87</td>\n      <td>5.3</td>\n      <td>12435</td>\n      <td>19.64</td>\n      <td>11.0</td>\n    </tr>\n  </tbody>\n</table>\n</div>"
     },
     "execution_count": 5,
     "metadata": {},
     "output_type": "execute_result"
    }
   ],
   "source": [
    "dataframe.tail()"
   ],
   "metadata": {
    "collapsed": false,
    "pycharm": {
     "name": "#%%\n"
    }
   }
  },
  {
   "cell_type": "code",
   "execution_count": 6,
   "outputs": [
    {
     "name": "stdout",
     "output_type": "stream",
     "text": [
      "<class 'pandas.core.frame.DataFrame'>\n",
      "Index: 1000 entries, Guardians of the Galaxy to Nine Lives\n",
      "Data columns (total 11 columns):\n",
      " #   Column              Non-Null Count  Dtype  \n",
      "---  ------              --------------  -----  \n",
      " 0   Rank                1000 non-null   int64  \n",
      " 1   Genre               1000 non-null   object \n",
      " 2   Description         1000 non-null   object \n",
      " 3   Director            1000 non-null   object \n",
      " 4   Actors              1000 non-null   object \n",
      " 5   Year                1000 non-null   int64  \n",
      " 6   Runtime (Minutes)   1000 non-null   int64  \n",
      " 7   Rating              1000 non-null   float64\n",
      " 8   Votes               1000 non-null   int64  \n",
      " 9   Revenue (Millions)  872 non-null    float64\n",
      " 10  Metascore           936 non-null    float64\n",
      "dtypes: float64(3), int64(4), object(4)\n",
      "memory usage: 93.8+ KB\n"
     ]
    }
   ],
   "source": [
    "dataframe.info()\n",
    "\n"
   ],
   "metadata": {
    "collapsed": false,
    "pycharm": {
     "name": "#%%\n"
    }
   }
  },
  {
   "cell_type": "code",
   "execution_count": 7,
   "outputs": [
    {
     "data": {
      "text/plain": "(1000, 11)"
     },
     "execution_count": 7,
     "metadata": {},
     "output_type": "execute_result"
    }
   ],
   "source": [
    "dataframe.shape"
   ],
   "metadata": {
    "collapsed": false,
    "pycharm": {
     "name": "#%%\n"
    }
   }
  },
  {
   "cell_type": "code",
   "execution_count": 8,
   "outputs": [
    {
     "data": {
      "text/plain": "(2000, 11)"
     },
     "execution_count": 8,
     "metadata": {},
     "output_type": "execute_result"
    }
   ],
   "source": [
    "temp_dataframe = dataframe.append(dataframe)\n",
    "temp_dataframe.shape"
   ],
   "metadata": {
    "collapsed": false,
    "pycharm": {
     "name": "#%%\n"
    }
   }
  },
  {
   "cell_type": "code",
   "execution_count": 9,
   "outputs": [
    {
     "data": {
      "text/plain": "(1000, 11)"
     },
     "execution_count": 9,
     "metadata": {},
     "output_type": "execute_result"
    }
   ],
   "source": [
    "temp_dataframe.drop_duplicates(inplace=True)\n",
    "temp_dataframe.shape"
   ],
   "metadata": {
    "collapsed": false,
    "pycharm": {
     "name": "#%%\n"
    }
   }
  },
  {
   "cell_type": "code",
   "execution_count": 10,
   "outputs": [
    {
     "data": {
      "text/plain": "Index(['Rank', 'Genre', 'Description', 'Director', 'Actors', 'Year',\n       'Runtime (Minutes)', 'Rating', 'Votes', 'Revenue (Millions)',\n       'Metascore'],\n      dtype='object')"
     },
     "execution_count": 10,
     "metadata": {},
     "output_type": "execute_result"
    }
   ],
   "source": [
    "dataframe.columns"
   ],
   "metadata": {
    "collapsed": false,
    "pycharm": {
     "name": "#%%\n"
    }
   }
  },
  {
   "cell_type": "code",
   "execution_count": 11,
   "outputs": [
    {
     "data": {
      "text/plain": "Index(['Rank', 'Genre', 'Description', 'Director', 'Actors', 'Year', 'Runtime',\n       'Rating', 'Votes', 'Revenue', 'Metascore'],\n      dtype='object')"
     },
     "execution_count": 11,
     "metadata": {},
     "output_type": "execute_result"
    }
   ],
   "source": [
    "dataframe.rename(columns={\n",
    "    \"Runtime (Minutes)\": \"Runtime\",\n",
    "    \"Revenue (Millions)\": \"Revenue\"\n",
    "}\n",
    ", inplace=True)\n",
    "dataframe.columns"
   ],
   "metadata": {
    "collapsed": false,
    "pycharm": {
     "name": "#%%\n"
    }
   }
  },
  {
   "cell_type": "code",
   "execution_count": 12,
   "outputs": [
    {
     "data": {
      "text/plain": "Index(['rank', 'genre', 'description', 'director', 'actors', 'year', 'runtime',\n       'rating', 'votes', 'revenue', 'metascore'],\n      dtype='object')"
     },
     "execution_count": 12,
     "metadata": {},
     "output_type": "execute_result"
    }
   ],
   "source": [
    "dataframe.columns=[col.lower() for col in dataframe]\n",
    "dataframe.columns"
   ],
   "metadata": {
    "collapsed": false,
    "pycharm": {
     "name": "#%%\n"
    }
   }
  },
  {
   "cell_type": "code",
   "execution_count": 13,
   "outputs": [
    {
     "data": {
      "text/plain": "                          rank  genre  description  director  actors   year  \\\nTitle                                                                         \nGuardians of the Galaxy  False  False        False     False   False  False   \nPrometheus               False  False        False     False   False  False   \nSplit                    False  False        False     False   False  False   \nSing                     False  False        False     False   False  False   \nSuicide Squad            False  False        False     False   False  False   \n...                        ...    ...          ...       ...     ...    ...   \nSecret in Their Eyes     False  False        False     False   False  False   \nHostel: Part II          False  False        False     False   False  False   \nStep Up 2: The Streets   False  False        False     False   False  False   \nSearch Party             False  False        False     False   False  False   \nNine Lives               False  False        False     False   False  False   \n\n                         runtime  rating  votes  revenue  metascore  \nTitle                                                                \nGuardians of the Galaxy    False   False  False    False      False  \nPrometheus                 False   False  False    False      False  \nSplit                      False   False  False    False      False  \nSing                       False   False  False    False      False  \nSuicide Squad              False   False  False    False      False  \n...                          ...     ...    ...      ...        ...  \nSecret in Their Eyes       False   False  False     True      False  \nHostel: Part II            False   False  False    False      False  \nStep Up 2: The Streets     False   False  False    False      False  \nSearch Party               False   False  False     True      False  \nNine Lives                 False   False  False    False      False  \n\n[1000 rows x 11 columns]",
      "text/html": "<div>\n<style scoped>\n    .dataframe tbody tr th:only-of-type {\n        vertical-align: middle;\n    }\n\n    .dataframe tbody tr th {\n        vertical-align: top;\n    }\n\n    .dataframe thead th {\n        text-align: right;\n    }\n</style>\n<table border=\"1\" class=\"dataframe\">\n  <thead>\n    <tr style=\"text-align: right;\">\n      <th></th>\n      <th>rank</th>\n      <th>genre</th>\n      <th>description</th>\n      <th>director</th>\n      <th>actors</th>\n      <th>year</th>\n      <th>runtime</th>\n      <th>rating</th>\n      <th>votes</th>\n      <th>revenue</th>\n      <th>metascore</th>\n    </tr>\n    <tr>\n      <th>Title</th>\n      <th></th>\n      <th></th>\n      <th></th>\n      <th></th>\n      <th></th>\n      <th></th>\n      <th></th>\n      <th></th>\n      <th></th>\n      <th></th>\n      <th></th>\n    </tr>\n  </thead>\n  <tbody>\n    <tr>\n      <th>Guardians of the Galaxy</th>\n      <td>False</td>\n      <td>False</td>\n      <td>False</td>\n      <td>False</td>\n      <td>False</td>\n      <td>False</td>\n      <td>False</td>\n      <td>False</td>\n      <td>False</td>\n      <td>False</td>\n      <td>False</td>\n    </tr>\n    <tr>\n      <th>Prometheus</th>\n      <td>False</td>\n      <td>False</td>\n      <td>False</td>\n      <td>False</td>\n      <td>False</td>\n      <td>False</td>\n      <td>False</td>\n      <td>False</td>\n      <td>False</td>\n      <td>False</td>\n      <td>False</td>\n    </tr>\n    <tr>\n      <th>Split</th>\n      <td>False</td>\n      <td>False</td>\n      <td>False</td>\n      <td>False</td>\n      <td>False</td>\n      <td>False</td>\n      <td>False</td>\n      <td>False</td>\n      <td>False</td>\n      <td>False</td>\n      <td>False</td>\n    </tr>\n    <tr>\n      <th>Sing</th>\n      <td>False</td>\n      <td>False</td>\n      <td>False</td>\n      <td>False</td>\n      <td>False</td>\n      <td>False</td>\n      <td>False</td>\n      <td>False</td>\n      <td>False</td>\n      <td>False</td>\n      <td>False</td>\n    </tr>\n    <tr>\n      <th>Suicide Squad</th>\n      <td>False</td>\n      <td>False</td>\n      <td>False</td>\n      <td>False</td>\n      <td>False</td>\n      <td>False</td>\n      <td>False</td>\n      <td>False</td>\n      <td>False</td>\n      <td>False</td>\n      <td>False</td>\n    </tr>\n    <tr>\n      <th>...</th>\n      <td>...</td>\n      <td>...</td>\n      <td>...</td>\n      <td>...</td>\n      <td>...</td>\n      <td>...</td>\n      <td>...</td>\n      <td>...</td>\n      <td>...</td>\n      <td>...</td>\n      <td>...</td>\n    </tr>\n    <tr>\n      <th>Secret in Their Eyes</th>\n      <td>False</td>\n      <td>False</td>\n      <td>False</td>\n      <td>False</td>\n      <td>False</td>\n      <td>False</td>\n      <td>False</td>\n      <td>False</td>\n      <td>False</td>\n      <td>True</td>\n      <td>False</td>\n    </tr>\n    <tr>\n      <th>Hostel: Part II</th>\n      <td>False</td>\n      <td>False</td>\n      <td>False</td>\n      <td>False</td>\n      <td>False</td>\n      <td>False</td>\n      <td>False</td>\n      <td>False</td>\n      <td>False</td>\n      <td>False</td>\n      <td>False</td>\n    </tr>\n    <tr>\n      <th>Step Up 2: The Streets</th>\n      <td>False</td>\n      <td>False</td>\n      <td>False</td>\n      <td>False</td>\n      <td>False</td>\n      <td>False</td>\n      <td>False</td>\n      <td>False</td>\n      <td>False</td>\n      <td>False</td>\n      <td>False</td>\n    </tr>\n    <tr>\n      <th>Search Party</th>\n      <td>False</td>\n      <td>False</td>\n      <td>False</td>\n      <td>False</td>\n      <td>False</td>\n      <td>False</td>\n      <td>False</td>\n      <td>False</td>\n      <td>False</td>\n      <td>True</td>\n      <td>False</td>\n    </tr>\n    <tr>\n      <th>Nine Lives</th>\n      <td>False</td>\n      <td>False</td>\n      <td>False</td>\n      <td>False</td>\n      <td>False</td>\n      <td>False</td>\n      <td>False</td>\n      <td>False</td>\n      <td>False</td>\n      <td>False</td>\n      <td>False</td>\n    </tr>\n  </tbody>\n</table>\n<p>1000 rows × 11 columns</p>\n</div>"
     },
     "execution_count": 13,
     "metadata": {},
     "output_type": "execute_result"
    }
   ],
   "source": [
    "dataframe.isnull()"
   ],
   "metadata": {
    "collapsed": false,
    "pycharm": {
     "name": "#%%\n"
    }
   }
  },
  {
   "cell_type": "code",
   "execution_count": 14,
   "outputs": [
    {
     "data": {
      "text/plain": "rank             0\ngenre            0\ndescription      0\ndirector         0\nactors           0\nyear             0\nruntime          0\nrating           0\nvotes            0\nrevenue        128\nmetascore       64\ndtype: int64"
     },
     "execution_count": 14,
     "metadata": {},
     "output_type": "execute_result"
    }
   ],
   "source": [
    "dataframe.isnull().sum()"
   ],
   "metadata": {
    "collapsed": false,
    "pycharm": {
     "name": "#%%\n"
    }
   }
  },
  {
   "cell_type": "code",
   "execution_count": 15,
   "outputs": [],
   "source": [
    "# dataframe.dropna(axis=0,inplace=True)\n",
    "# dataframe.dropna(axis=1,inplace=True)"
   ],
   "metadata": {
    "collapsed": false,
    "pycharm": {
     "name": "#%%\n"
    }
   }
  },
  {
   "cell_type": "code",
   "execution_count": 16,
   "outputs": [
    {
     "data": {
      "text/plain": "rank            0\ngenre           0\ndescription     0\ndirector        0\nactors          0\nyear            0\nruntime         0\nrating          0\nvotes           0\nrevenue         0\nmetascore      64\ndtype: int64"
     },
     "execution_count": 16,
     "metadata": {},
     "output_type": "execute_result"
    }
   ],
   "source": [
    "revenue = dataframe[\"revenue\"]\n",
    "mean = revenue.mean()\n",
    "revenue.fillna(mean, inplace=True)\n",
    "dataframe.isnull().sum()"
   ],
   "metadata": {
    "collapsed": false,
    "pycharm": {
     "name": "#%%\n"
    }
   }
  },
  {
   "cell_type": "code",
   "execution_count": 17,
   "outputs": [
    {
     "data": {
      "text/plain": "rank           0\ngenre          0\ndescription    0\ndirector       0\nactors         0\nyear           0\nruntime        0\nrating         0\nvotes          0\nrevenue        0\nmetascore      0\ndtype: int64"
     },
     "execution_count": 17,
     "metadata": {},
     "output_type": "execute_result"
    }
   ],
   "source": [
    "metascore = dataframe[\"metascore\"]\n",
    "mean = metascore.mean()\n",
    "metascore.fillna(mean, inplace=True)\n",
    "dataframe.isnull().sum()"
   ],
   "metadata": {
    "collapsed": false,
    "pycharm": {
     "name": "#%%\n"
    }
   }
  },
  {
   "cell_type": "code",
   "execution_count": 18,
   "outputs": [
    {
     "data": {
      "text/plain": "                         Rank                     Genre  \\\nTitle                                                     \nGuardians of the Galaxy     1   Action,Adventure,Sci-Fi   \nPrometheus                  2  Adventure,Mystery,Sci-Fi   \nSplit                       3           Horror,Thriller   \nSing                        4   Animation,Comedy,Family   \nSuicide Squad               5  Action,Adventure,Fantasy   \n...                       ...                       ...   \nSecret in Their Eyes      996       Crime,Drama,Mystery   \nHostel: Part II           997                    Horror   \nStep Up 2: The Streets    998       Drama,Music,Romance   \nSearch Party              999          Adventure,Comedy   \nNine Lives               1000     Comedy,Family,Fantasy   \n\n                                                               Description  \\\nTitle                                                                        \nGuardians of the Galaxy  A group of intergalactic criminals are forced ...   \nPrometheus               Following clues to the origin of mankind, a te...   \nSplit                    Three girls are kidnapped by a man with a diag...   \nSing                     In a city of humanoid animals, a hustling thea...   \nSuicide Squad            A secret government agency recruits some of th...   \n...                                                                    ...   \nSecret in Their Eyes     A tight-knit team of rising investigators, alo...   \nHostel: Part II          Three American college students studying abroa...   \nStep Up 2: The Streets   Romantic sparks occur between two dance studen...   \nSearch Party             A pair of friends embark on a mission to reuni...   \nNine Lives               A stuffy businessman finds himself trapped ins...   \n\n                                     Director  \\\nTitle                                           \nGuardians of the Galaxy            James Gunn   \nPrometheus                       Ridley Scott   \nSplit                      M. Night Shyamalan   \nSing                     Christophe Lourdelet   \nSuicide Squad                      David Ayer   \n...                                       ...   \nSecret in Their Eyes                Billy Ray   \nHostel: Part II                      Eli Roth   \nStep Up 2: The Streets             Jon M. Chu   \nSearch Party                   Scot Armstrong   \nNine Lives                   Barry Sonnenfeld   \n\n                                                                    Actors  \\\nTitle                                                                        \nGuardians of the Galaxy  Chris Pratt, Vin Diesel, Bradley Cooper, Zoe S...   \nPrometheus               Noomi Rapace, Logan Marshall-Green, Michael Fa...   \nSplit                    James McAvoy, Anya Taylor-Joy, Haley Lu Richar...   \nSing                     Matthew McConaughey,Reese Witherspoon, Seth Ma...   \nSuicide Squad            Will Smith, Jared Leto, Margot Robbie, Viola D...   \n...                                                                    ...   \nSecret in Their Eyes     Chiwetel Ejiofor, Nicole Kidman, Julia Roberts...   \nHostel: Part II          Lauren German, Heather Matarazzo, Bijou Philli...   \nStep Up 2: The Streets   Robert Hoffman, Briana Evigan, Cassie Ventura,...   \nSearch Party             Adam Pally, T.J. Miller, Thomas Middleditch,Sh...   \nNine Lives               Kevin Spacey, Jennifer Garner, Robbie Amell,Ch...   \n\n                         Year  Runtime (Minutes)  Rating   Votes  \\\nTitle                                                              \nGuardians of the Galaxy  2014                121     8.1  757074   \nPrometheus               2012                124     7.0  485820   \nSplit                    2016                117     7.3  157606   \nSing                     2016                108     7.2   60545   \nSuicide Squad            2016                123     6.2  393727   \n...                       ...                ...     ...     ...   \nSecret in Their Eyes     2015                111     6.2   27585   \nHostel: Part II          2007                 94     5.5   73152   \nStep Up 2: The Streets   2008                 98     6.2   70699   \nSearch Party             2014                 93     5.6    4881   \nNine Lives               2016                 87     5.3   12435   \n\n                         Revenue (Millions)  Metascore  \nTitle                                                   \nGuardians of the Galaxy              333.13       76.0  \nPrometheus                           126.46       65.0  \nSplit                                138.12       62.0  \nSing                                 270.32       59.0  \nSuicide Squad                        325.02       40.0  \n...                                     ...        ...  \nSecret in Their Eyes                    NaN       45.0  \nHostel: Part II                       17.54       46.0  \nStep Up 2: The Streets                58.01       50.0  \nSearch Party                            NaN       22.0  \nNine Lives                            19.64       11.0  \n\n[1000 rows x 11 columns]",
      "text/html": "<div>\n<style scoped>\n    .dataframe tbody tr th:only-of-type {\n        vertical-align: middle;\n    }\n\n    .dataframe tbody tr th {\n        vertical-align: top;\n    }\n\n    .dataframe thead th {\n        text-align: right;\n    }\n</style>\n<table border=\"1\" class=\"dataframe\">\n  <thead>\n    <tr style=\"text-align: right;\">\n      <th></th>\n      <th>Rank</th>\n      <th>Genre</th>\n      <th>Description</th>\n      <th>Director</th>\n      <th>Actors</th>\n      <th>Year</th>\n      <th>Runtime (Minutes)</th>\n      <th>Rating</th>\n      <th>Votes</th>\n      <th>Revenue (Millions)</th>\n      <th>Metascore</th>\n    </tr>\n    <tr>\n      <th>Title</th>\n      <th></th>\n      <th></th>\n      <th></th>\n      <th></th>\n      <th></th>\n      <th></th>\n      <th></th>\n      <th></th>\n      <th></th>\n      <th></th>\n      <th></th>\n    </tr>\n  </thead>\n  <tbody>\n    <tr>\n      <th>Guardians of the Galaxy</th>\n      <td>1</td>\n      <td>Action,Adventure,Sci-Fi</td>\n      <td>A group of intergalactic criminals are forced ...</td>\n      <td>James Gunn</td>\n      <td>Chris Pratt, Vin Diesel, Bradley Cooper, Zoe S...</td>\n      <td>2014</td>\n      <td>121</td>\n      <td>8.1</td>\n      <td>757074</td>\n      <td>333.13</td>\n      <td>76.0</td>\n    </tr>\n    <tr>\n      <th>Prometheus</th>\n      <td>2</td>\n      <td>Adventure,Mystery,Sci-Fi</td>\n      <td>Following clues to the origin of mankind, a te...</td>\n      <td>Ridley Scott</td>\n      <td>Noomi Rapace, Logan Marshall-Green, Michael Fa...</td>\n      <td>2012</td>\n      <td>124</td>\n      <td>7.0</td>\n      <td>485820</td>\n      <td>126.46</td>\n      <td>65.0</td>\n    </tr>\n    <tr>\n      <th>Split</th>\n      <td>3</td>\n      <td>Horror,Thriller</td>\n      <td>Three girls are kidnapped by a man with a diag...</td>\n      <td>M. Night Shyamalan</td>\n      <td>James McAvoy, Anya Taylor-Joy, Haley Lu Richar...</td>\n      <td>2016</td>\n      <td>117</td>\n      <td>7.3</td>\n      <td>157606</td>\n      <td>138.12</td>\n      <td>62.0</td>\n    </tr>\n    <tr>\n      <th>Sing</th>\n      <td>4</td>\n      <td>Animation,Comedy,Family</td>\n      <td>In a city of humanoid animals, a hustling thea...</td>\n      <td>Christophe Lourdelet</td>\n      <td>Matthew McConaughey,Reese Witherspoon, Seth Ma...</td>\n      <td>2016</td>\n      <td>108</td>\n      <td>7.2</td>\n      <td>60545</td>\n      <td>270.32</td>\n      <td>59.0</td>\n    </tr>\n    <tr>\n      <th>Suicide Squad</th>\n      <td>5</td>\n      <td>Action,Adventure,Fantasy</td>\n      <td>A secret government agency recruits some of th...</td>\n      <td>David Ayer</td>\n      <td>Will Smith, Jared Leto, Margot Robbie, Viola D...</td>\n      <td>2016</td>\n      <td>123</td>\n      <td>6.2</td>\n      <td>393727</td>\n      <td>325.02</td>\n      <td>40.0</td>\n    </tr>\n    <tr>\n      <th>...</th>\n      <td>...</td>\n      <td>...</td>\n      <td>...</td>\n      <td>...</td>\n      <td>...</td>\n      <td>...</td>\n      <td>...</td>\n      <td>...</td>\n      <td>...</td>\n      <td>...</td>\n      <td>...</td>\n    </tr>\n    <tr>\n      <th>Secret in Their Eyes</th>\n      <td>996</td>\n      <td>Crime,Drama,Mystery</td>\n      <td>A tight-knit team of rising investigators, alo...</td>\n      <td>Billy Ray</td>\n      <td>Chiwetel Ejiofor, Nicole Kidman, Julia Roberts...</td>\n      <td>2015</td>\n      <td>111</td>\n      <td>6.2</td>\n      <td>27585</td>\n      <td>NaN</td>\n      <td>45.0</td>\n    </tr>\n    <tr>\n      <th>Hostel: Part II</th>\n      <td>997</td>\n      <td>Horror</td>\n      <td>Three American college students studying abroa...</td>\n      <td>Eli Roth</td>\n      <td>Lauren German, Heather Matarazzo, Bijou Philli...</td>\n      <td>2007</td>\n      <td>94</td>\n      <td>5.5</td>\n      <td>73152</td>\n      <td>17.54</td>\n      <td>46.0</td>\n    </tr>\n    <tr>\n      <th>Step Up 2: The Streets</th>\n      <td>998</td>\n      <td>Drama,Music,Romance</td>\n      <td>Romantic sparks occur between two dance studen...</td>\n      <td>Jon M. Chu</td>\n      <td>Robert Hoffman, Briana Evigan, Cassie Ventura,...</td>\n      <td>2008</td>\n      <td>98</td>\n      <td>6.2</td>\n      <td>70699</td>\n      <td>58.01</td>\n      <td>50.0</td>\n    </tr>\n    <tr>\n      <th>Search Party</th>\n      <td>999</td>\n      <td>Adventure,Comedy</td>\n      <td>A pair of friends embark on a mission to reuni...</td>\n      <td>Scot Armstrong</td>\n      <td>Adam Pally, T.J. Miller, Thomas Middleditch,Sh...</td>\n      <td>2014</td>\n      <td>93</td>\n      <td>5.6</td>\n      <td>4881</td>\n      <td>NaN</td>\n      <td>22.0</td>\n    </tr>\n    <tr>\n      <th>Nine Lives</th>\n      <td>1000</td>\n      <td>Comedy,Family,Fantasy</td>\n      <td>A stuffy businessman finds himself trapped ins...</td>\n      <td>Barry Sonnenfeld</td>\n      <td>Kevin Spacey, Jennifer Garner, Robbie Amell,Ch...</td>\n      <td>2016</td>\n      <td>87</td>\n      <td>5.3</td>\n      <td>12435</td>\n      <td>19.64</td>\n      <td>11.0</td>\n    </tr>\n  </tbody>\n</table>\n<p>1000 rows × 11 columns</p>\n</div>"
     },
     "execution_count": 18,
     "metadata": {},
     "output_type": "execute_result"
    }
   ],
   "source": [
    "dataframe = pd.read_csv(\"Test_Data/IMDB-Movie-Data.csv\", index_col=\"Title\")\n",
    "dataframe"
   ],
   "metadata": {
    "collapsed": false,
    "pycharm": {
     "name": "#%%\n"
    }
   }
  },
  {
   "cell_type": "code",
   "execution_count": 22,
   "outputs": [
    {
     "data": {
      "text/plain": "count                        1000\nunique                        207\ntop       Action,Adventure,Sci-Fi\nfreq                           50\nName: Genre, dtype: object"
     },
     "execution_count": 22,
     "metadata": {},
     "output_type": "execute_result"
    }
   ],
   "source": [
    "dataframe['Genre'].describe()"
   ],
   "metadata": {
    "collapsed": false,
    "pycharm": {
     "name": "#%%\n"
    }
   }
  },
  {
   "cell_type": "code",
   "execution_count": 29,
   "outputs": [
    {
     "data": {
      "text/plain": "Action,Adventure,Sci-Fi     50\nDrama                       48\nComedy,Drama,Romance        35\nComedy                      32\nDrama,Romance               31\n                            ..\nComedy,Music,Romance         1\nComedy,Western               1\nMystery,Romance,Thriller     1\nAction,Comedy,Sci-Fi         1\nAction,Thriller,War          1\nName: Genre, Length: 207, dtype: int64"
     },
     "execution_count": 29,
     "metadata": {},
     "output_type": "execute_result"
    }
   ],
   "source": [
    "dataframe['Genre'].value_counts()"
   ],
   "metadata": {
    "collapsed": false,
    "pycharm": {
     "name": "#%%\n"
    }
   }
  },
  {
   "cell_type": "code",
   "execution_count": 30,
   "outputs": [
    {
     "data": {
      "text/plain": "                        Rank      Year  Runtime (Minutes)    Rating     Votes  \\\nRank                1.000000 -0.261605          -0.221739 -0.219555 -0.283876   \nYear               -0.261605  1.000000          -0.164900 -0.211219 -0.411904   \nRuntime (Minutes)  -0.221739 -0.164900           1.000000  0.392214  0.407062   \nRating             -0.219555 -0.211219           0.392214  1.000000  0.511537   \nVotes              -0.283876 -0.411904           0.407062  0.511537  1.000000   \nRevenue (Millions) -0.271592 -0.126790           0.267953  0.217654  0.639661   \nMetascore          -0.191869 -0.079305           0.211978  0.631897  0.325684   \n\n                    Revenue (Millions)  Metascore  \nRank                         -0.271592  -0.191869  \nYear                         -0.126790  -0.079305  \nRuntime (Minutes)             0.267953   0.211978  \nRating                        0.217654   0.631897  \nVotes                         0.639661   0.325684  \nRevenue (Millions)            1.000000   0.142397  \nMetascore                     0.142397   1.000000  ",
      "text/html": "<div>\n<style scoped>\n    .dataframe tbody tr th:only-of-type {\n        vertical-align: middle;\n    }\n\n    .dataframe tbody tr th {\n        vertical-align: top;\n    }\n\n    .dataframe thead th {\n        text-align: right;\n    }\n</style>\n<table border=\"1\" class=\"dataframe\">\n  <thead>\n    <tr style=\"text-align: right;\">\n      <th></th>\n      <th>Rank</th>\n      <th>Year</th>\n      <th>Runtime (Minutes)</th>\n      <th>Rating</th>\n      <th>Votes</th>\n      <th>Revenue (Millions)</th>\n      <th>Metascore</th>\n    </tr>\n  </thead>\n  <tbody>\n    <tr>\n      <th>Rank</th>\n      <td>1.000000</td>\n      <td>-0.261605</td>\n      <td>-0.221739</td>\n      <td>-0.219555</td>\n      <td>-0.283876</td>\n      <td>-0.271592</td>\n      <td>-0.191869</td>\n    </tr>\n    <tr>\n      <th>Year</th>\n      <td>-0.261605</td>\n      <td>1.000000</td>\n      <td>-0.164900</td>\n      <td>-0.211219</td>\n      <td>-0.411904</td>\n      <td>-0.126790</td>\n      <td>-0.079305</td>\n    </tr>\n    <tr>\n      <th>Runtime (Minutes)</th>\n      <td>-0.221739</td>\n      <td>-0.164900</td>\n      <td>1.000000</td>\n      <td>0.392214</td>\n      <td>0.407062</td>\n      <td>0.267953</td>\n      <td>0.211978</td>\n    </tr>\n    <tr>\n      <th>Rating</th>\n      <td>-0.219555</td>\n      <td>-0.211219</td>\n      <td>0.392214</td>\n      <td>1.000000</td>\n      <td>0.511537</td>\n      <td>0.217654</td>\n      <td>0.631897</td>\n    </tr>\n    <tr>\n      <th>Votes</th>\n      <td>-0.283876</td>\n      <td>-0.411904</td>\n      <td>0.407062</td>\n      <td>0.511537</td>\n      <td>1.000000</td>\n      <td>0.639661</td>\n      <td>0.325684</td>\n    </tr>\n    <tr>\n      <th>Revenue (Millions)</th>\n      <td>-0.271592</td>\n      <td>-0.126790</td>\n      <td>0.267953</td>\n      <td>0.217654</td>\n      <td>0.639661</td>\n      <td>1.000000</td>\n      <td>0.142397</td>\n    </tr>\n    <tr>\n      <th>Metascore</th>\n      <td>-0.191869</td>\n      <td>-0.079305</td>\n      <td>0.211978</td>\n      <td>0.631897</td>\n      <td>0.325684</td>\n      <td>0.142397</td>\n      <td>1.000000</td>\n    </tr>\n  </tbody>\n</table>\n</div>"
     },
     "execution_count": 30,
     "metadata": {},
     "output_type": "execute_result"
    }
   ],
   "source": [
    "dataframe.corr()\n"
   ],
   "metadata": {
    "collapsed": false,
    "pycharm": {
     "name": "#%%\n"
    }
   }
  },
  {
   "cell_type": "code",
   "execution_count": 32,
   "outputs": [
    {
     "data": {
      "text/plain": "                                            Genre  Rating\nTitle                                                    \nGuardians of the Galaxy   Action,Adventure,Sci-Fi     8.1\nPrometheus               Adventure,Mystery,Sci-Fi     7.0\nSplit                             Horror,Thriller     7.3\nSing                      Animation,Comedy,Family     7.2\nSuicide Squad            Action,Adventure,Fantasy     6.2\n...                                           ...     ...\nSecret in Their Eyes          Crime,Drama,Mystery     6.2\nHostel: Part II                            Horror     5.5\nStep Up 2: The Streets        Drama,Music,Romance     6.2\nSearch Party                     Adventure,Comedy     5.6\nNine Lives                  Comedy,Family,Fantasy     5.3\n\n[1000 rows x 2 columns]",
      "text/html": "<div>\n<style scoped>\n    .dataframe tbody tr th:only-of-type {\n        vertical-align: middle;\n    }\n\n    .dataframe tbody tr th {\n        vertical-align: top;\n    }\n\n    .dataframe thead th {\n        text-align: right;\n    }\n</style>\n<table border=\"1\" class=\"dataframe\">\n  <thead>\n    <tr style=\"text-align: right;\">\n      <th></th>\n      <th>Genre</th>\n      <th>Rating</th>\n    </tr>\n    <tr>\n      <th>Title</th>\n      <th></th>\n      <th></th>\n    </tr>\n  </thead>\n  <tbody>\n    <tr>\n      <th>Guardians of the Galaxy</th>\n      <td>Action,Adventure,Sci-Fi</td>\n      <td>8.1</td>\n    </tr>\n    <tr>\n      <th>Prometheus</th>\n      <td>Adventure,Mystery,Sci-Fi</td>\n      <td>7.0</td>\n    </tr>\n    <tr>\n      <th>Split</th>\n      <td>Horror,Thriller</td>\n      <td>7.3</td>\n    </tr>\n    <tr>\n      <th>Sing</th>\n      <td>Animation,Comedy,Family</td>\n      <td>7.2</td>\n    </tr>\n    <tr>\n      <th>Suicide Squad</th>\n      <td>Action,Adventure,Fantasy</td>\n      <td>6.2</td>\n    </tr>\n    <tr>\n      <th>...</th>\n      <td>...</td>\n      <td>...</td>\n    </tr>\n    <tr>\n      <th>Secret in Their Eyes</th>\n      <td>Crime,Drama,Mystery</td>\n      <td>6.2</td>\n    </tr>\n    <tr>\n      <th>Hostel: Part II</th>\n      <td>Horror</td>\n      <td>5.5</td>\n    </tr>\n    <tr>\n      <th>Step Up 2: The Streets</th>\n      <td>Drama,Music,Romance</td>\n      <td>6.2</td>\n    </tr>\n    <tr>\n      <th>Search Party</th>\n      <td>Adventure,Comedy</td>\n      <td>5.6</td>\n    </tr>\n    <tr>\n      <th>Nine Lives</th>\n      <td>Comedy,Family,Fantasy</td>\n      <td>5.3</td>\n    </tr>\n  </tbody>\n</table>\n<p>1000 rows × 2 columns</p>\n</div>"
     },
     "execution_count": 32,
     "metadata": {},
     "output_type": "execute_result"
    }
   ],
   "source": [
    "new_dataframe = dataframe[['Genre', 'Rating']]\n",
    "new_dataframe"
   ],
   "metadata": {
    "collapsed": false,
    "pycharm": {
     "name": "#%%\n"
    }
   }
  },
  {
   "cell_type": "code",
   "execution_count": 35,
   "outputs": [
    {
     "data": {
      "text/plain": "Rank                                                                  1\nGenre                                           Action,Adventure,Sci-Fi\nDescription           A group of intergalactic criminals are forced ...\nDirector                                                     James Gunn\nActors                Chris Pratt, Vin Diesel, Bradley Cooper, Zoe S...\nYear                                                               2014\nRuntime (Minutes)                                                   121\nRating                                                             8.10\nVotes                                                            757074\nRevenue (Millions)                                               333.13\nMetascore                                                         76.00\nName: Guardians of the Galaxy, dtype: object"
     },
     "execution_count": 35,
     "metadata": {},
     "output_type": "execute_result"
    }
   ],
   "source": [
    "dataframe.iloc[0]"
   ],
   "metadata": {
    "collapsed": false,
    "pycharm": {
     "name": "#%%\n"
    }
   }
  },
  {
   "cell_type": "code",
   "execution_count": 36,
   "outputs": [
    {
     "data": {
      "text/plain": "                Rank                     Genre  \\\nTitle                                            \nSplit              3           Horror,Thriller   \nSing               4   Animation,Comedy,Family   \nSuicide Squad      5  Action,Adventure,Fantasy   \nThe Great Wall     6  Action,Adventure,Fantasy   \n\n                                                      Description  \\\nTitle                                                               \nSplit           Three girls are kidnapped by a man with a diag...   \nSing            In a city of humanoid animals, a hustling thea...   \nSuicide Squad   A secret government agency recruits some of th...   \nThe Great Wall  European mercenaries searching for black powde...   \n\n                            Director  \\\nTitle                                  \nSplit             M. Night Shyamalan   \nSing            Christophe Lourdelet   \nSuicide Squad             David Ayer   \nThe Great Wall           Yimou Zhang   \n\n                                                           Actors  Year  \\\nTitle                                                                     \nSplit           James McAvoy, Anya Taylor-Joy, Haley Lu Richar...  2016   \nSing            Matthew McConaughey,Reese Witherspoon, Seth Ma...  2016   \nSuicide Squad   Will Smith, Jared Leto, Margot Robbie, Viola D...  2016   \nThe Great Wall      Matt Damon, Tian Jing, Willem Dafoe, Andy Lau  2016   \n\n                Runtime (Minutes)  Rating   Votes  Revenue (Millions)  \\\nTitle                                                                   \nSplit                         117     7.3  157606              138.12   \nSing                          108     7.2   60545              270.32   \nSuicide Squad                 123     6.2  393727              325.02   \nThe Great Wall                103     6.1   56036               45.13   \n\n                Metascore  \nTitle                      \nSplit                62.0  \nSing                 59.0  \nSuicide Squad        40.0  \nThe Great Wall       42.0  ",
      "text/html": "<div>\n<style scoped>\n    .dataframe tbody tr th:only-of-type {\n        vertical-align: middle;\n    }\n\n    .dataframe tbody tr th {\n        vertical-align: top;\n    }\n\n    .dataframe thead th {\n        text-align: right;\n    }\n</style>\n<table border=\"1\" class=\"dataframe\">\n  <thead>\n    <tr style=\"text-align: right;\">\n      <th></th>\n      <th>Rank</th>\n      <th>Genre</th>\n      <th>Description</th>\n      <th>Director</th>\n      <th>Actors</th>\n      <th>Year</th>\n      <th>Runtime (Minutes)</th>\n      <th>Rating</th>\n      <th>Votes</th>\n      <th>Revenue (Millions)</th>\n      <th>Metascore</th>\n    </tr>\n    <tr>\n      <th>Title</th>\n      <th></th>\n      <th></th>\n      <th></th>\n      <th></th>\n      <th></th>\n      <th></th>\n      <th></th>\n      <th></th>\n      <th></th>\n      <th></th>\n      <th></th>\n    </tr>\n  </thead>\n  <tbody>\n    <tr>\n      <th>Split</th>\n      <td>3</td>\n      <td>Horror,Thriller</td>\n      <td>Three girls are kidnapped by a man with a diag...</td>\n      <td>M. Night Shyamalan</td>\n      <td>James McAvoy, Anya Taylor-Joy, Haley Lu Richar...</td>\n      <td>2016</td>\n      <td>117</td>\n      <td>7.3</td>\n      <td>157606</td>\n      <td>138.12</td>\n      <td>62.0</td>\n    </tr>\n    <tr>\n      <th>Sing</th>\n      <td>4</td>\n      <td>Animation,Comedy,Family</td>\n      <td>In a city of humanoid animals, a hustling thea...</td>\n      <td>Christophe Lourdelet</td>\n      <td>Matthew McConaughey,Reese Witherspoon, Seth Ma...</td>\n      <td>2016</td>\n      <td>108</td>\n      <td>7.2</td>\n      <td>60545</td>\n      <td>270.32</td>\n      <td>59.0</td>\n    </tr>\n    <tr>\n      <th>Suicide Squad</th>\n      <td>5</td>\n      <td>Action,Adventure,Fantasy</td>\n      <td>A secret government agency recruits some of th...</td>\n      <td>David Ayer</td>\n      <td>Will Smith, Jared Leto, Margot Robbie, Viola D...</td>\n      <td>2016</td>\n      <td>123</td>\n      <td>6.2</td>\n      <td>393727</td>\n      <td>325.02</td>\n      <td>40.0</td>\n    </tr>\n    <tr>\n      <th>The Great Wall</th>\n      <td>6</td>\n      <td>Action,Adventure,Fantasy</td>\n      <td>European mercenaries searching for black powde...</td>\n      <td>Yimou Zhang</td>\n      <td>Matt Damon, Tian Jing, Willem Dafoe, Andy Lau</td>\n      <td>2016</td>\n      <td>103</td>\n      <td>6.1</td>\n      <td>56036</td>\n      <td>45.13</td>\n      <td>42.0</td>\n    </tr>\n  </tbody>\n</table>\n</div>"
     },
     "execution_count": 36,
     "metadata": {},
     "output_type": "execute_result"
    }
   ],
   "source": [
    "dataframe.loc[\"Split\": \"The Great Wall\"]"
   ],
   "metadata": {
    "collapsed": false,
    "pycharm": {
     "name": "#%%\n"
    }
   }
  },
  {
   "cell_type": "code",
   "execution_count": 39,
   "outputs": [
    {
     "data": {
      "text/plain": "Title\nGuardians of the Galaxy     True\nPrometheus                 False\nSplit                      False\nSing                       False\nSuicide Squad              False\nName: Genre, dtype: bool"
     },
     "execution_count": 39,
     "metadata": {},
     "output_type": "execute_result"
    }
   ],
   "source": [
    "movies = (dataframe['Genre'] == 'Action,Adventure,Sci-Fi')\n",
    "movies.head()"
   ],
   "metadata": {
    "collapsed": false,
    "pycharm": {
     "name": "#%%\n"
    }
   }
  },
  {
   "cell_type": "code",
   "execution_count": 47,
   "outputs": [
    {
     "data": {
      "text/plain": "                       Rank                    Genre  \\\nTitle                                                  \nInterstellar             37   Adventure,Drama,Sci-Fi   \nThe Dark Knight          55       Action,Crime,Drama   \nThe Prestige             65     Drama,Mystery,Sci-Fi   \nInception                81  Action,Adventure,Sci-Fi   \nDangal                  118   Action,Biography,Drama   \nThe Dark Knight Rises   125          Action,Thriller   \n\n                                                             Description  \\\nTitle                                                                      \nInterstellar           A team of explorers travel through a wormhole ...   \nThe Dark Knight        When the menace known as the Joker wreaks havo...   \nThe Prestige           Two stage magicians engage in competitive one-...   \nInception              A thief, who steals corporate secrets through ...   \nDangal                 Former wrestler Mahavir Singh Phogat and his t...   \nThe Dark Knight Rises  Eight years after the Joker's reign of anarchy...   \n\n                                Director  \\\nTitle                                      \nInterstellar           Christopher Nolan   \nThe Dark Knight        Christopher Nolan   \nThe Prestige           Christopher Nolan   \nInception              Christopher Nolan   \nDangal                     Nitesh Tiwari   \nThe Dark Knight Rises  Christopher Nolan   \n\n                                                                  Actors  \\\nTitle                                                                      \nInterstellar           Matthew McConaughey, Anne Hathaway, Jessica Ch...   \nThe Dark Knight        Christian Bale, Heath Ledger, Aaron Eckhart,Mi...   \nThe Prestige           Christian Bale, Hugh Jackman, Scarlett Johanss...   \nInception              Leonardo DiCaprio, Joseph Gordon-Levitt, Ellen...   \nDangal                 Aamir Khan, Sakshi Tanwar, Fatima Sana Shaikh,...   \nThe Dark Knight Rises  Christian Bale, Tom Hardy, Anne Hathaway,Gary ...   \n\n                       Year  Runtime (Minutes)  Rating    Votes  \\\nTitle                                                             \nInterstellar           2014                169     8.6  1047747   \nThe Dark Knight        2008                152     9.0  1791916   \nThe Prestige           2006                130     8.5   913152   \nInception              2010                148     8.8  1583625   \nDangal                 2016                161     8.8    48969   \nThe Dark Knight Rises  2012                164     8.5  1222645   \n\n                       Revenue (Millions)  Metascore  \nTitle                                                 \nInterstellar                       187.99       74.0  \nThe Dark Knight                    533.32       82.0  \nThe Prestige                        53.08       66.0  \nInception                          292.57       74.0  \nDangal                              11.15        NaN  \nThe Dark Knight Rises              448.13       78.0  ",
      "text/html": "<div>\n<style scoped>\n    .dataframe tbody tr th:only-of-type {\n        vertical-align: middle;\n    }\n\n    .dataframe tbody tr th {\n        vertical-align: top;\n    }\n\n    .dataframe thead th {\n        text-align: right;\n    }\n</style>\n<table border=\"1\" class=\"dataframe\">\n  <thead>\n    <tr style=\"text-align: right;\">\n      <th></th>\n      <th>Rank</th>\n      <th>Genre</th>\n      <th>Description</th>\n      <th>Director</th>\n      <th>Actors</th>\n      <th>Year</th>\n      <th>Runtime (Minutes)</th>\n      <th>Rating</th>\n      <th>Votes</th>\n      <th>Revenue (Millions)</th>\n      <th>Metascore</th>\n    </tr>\n    <tr>\n      <th>Title</th>\n      <th></th>\n      <th></th>\n      <th></th>\n      <th></th>\n      <th></th>\n      <th></th>\n      <th></th>\n      <th></th>\n      <th></th>\n      <th></th>\n      <th></th>\n    </tr>\n  </thead>\n  <tbody>\n    <tr>\n      <th>Interstellar</th>\n      <td>37</td>\n      <td>Adventure,Drama,Sci-Fi</td>\n      <td>A team of explorers travel through a wormhole ...</td>\n      <td>Christopher Nolan</td>\n      <td>Matthew McConaughey, Anne Hathaway, Jessica Ch...</td>\n      <td>2014</td>\n      <td>169</td>\n      <td>8.6</td>\n      <td>1047747</td>\n      <td>187.99</td>\n      <td>74.0</td>\n    </tr>\n    <tr>\n      <th>The Dark Knight</th>\n      <td>55</td>\n      <td>Action,Crime,Drama</td>\n      <td>When the menace known as the Joker wreaks havo...</td>\n      <td>Christopher Nolan</td>\n      <td>Christian Bale, Heath Ledger, Aaron Eckhart,Mi...</td>\n      <td>2008</td>\n      <td>152</td>\n      <td>9.0</td>\n      <td>1791916</td>\n      <td>533.32</td>\n      <td>82.0</td>\n    </tr>\n    <tr>\n      <th>The Prestige</th>\n      <td>65</td>\n      <td>Drama,Mystery,Sci-Fi</td>\n      <td>Two stage magicians engage in competitive one-...</td>\n      <td>Christopher Nolan</td>\n      <td>Christian Bale, Hugh Jackman, Scarlett Johanss...</td>\n      <td>2006</td>\n      <td>130</td>\n      <td>8.5</td>\n      <td>913152</td>\n      <td>53.08</td>\n      <td>66.0</td>\n    </tr>\n    <tr>\n      <th>Inception</th>\n      <td>81</td>\n      <td>Action,Adventure,Sci-Fi</td>\n      <td>A thief, who steals corporate secrets through ...</td>\n      <td>Christopher Nolan</td>\n      <td>Leonardo DiCaprio, Joseph Gordon-Levitt, Ellen...</td>\n      <td>2010</td>\n      <td>148</td>\n      <td>8.8</td>\n      <td>1583625</td>\n      <td>292.57</td>\n      <td>74.0</td>\n    </tr>\n    <tr>\n      <th>Dangal</th>\n      <td>118</td>\n      <td>Action,Biography,Drama</td>\n      <td>Former wrestler Mahavir Singh Phogat and his t...</td>\n      <td>Nitesh Tiwari</td>\n      <td>Aamir Khan, Sakshi Tanwar, Fatima Sana Shaikh,...</td>\n      <td>2016</td>\n      <td>161</td>\n      <td>8.8</td>\n      <td>48969</td>\n      <td>11.15</td>\n      <td>NaN</td>\n    </tr>\n    <tr>\n      <th>The Dark Knight Rises</th>\n      <td>125</td>\n      <td>Action,Thriller</td>\n      <td>Eight years after the Joker's reign of anarchy...</td>\n      <td>Christopher Nolan</td>\n      <td>Christian Bale, Tom Hardy, Anne Hathaway,Gary ...</td>\n      <td>2012</td>\n      <td>164</td>\n      <td>8.5</td>\n      <td>1222645</td>\n      <td>448.13</td>\n      <td>78.0</td>\n    </tr>\n  </tbody>\n</table>\n</div>"
     },
     "execution_count": 47,
     "metadata": {},
     "output_type": "execute_result"
    }
   ],
   "source": [
    "dataframe[\n",
    "    (dataframe['Director'] == 'Christopher Nolan')|\n",
    "    (dataframe['Director'] == 'Nitesh Tiwari')\n",
    "]"
   ],
   "metadata": {
    "collapsed": false,
    "pycharm": {
     "name": "#%%\n"
    }
   }
  },
  {
   "cell_type": "code",
   "execution_count": 48,
   "outputs": [
    {
     "data": {
      "text/plain": "                       Rank                    Genre  \\\nTitle                                                  \nInterstellar             37   Adventure,Drama,Sci-Fi   \nThe Dark Knight          55       Action,Crime,Drama   \nThe Prestige             65     Drama,Mystery,Sci-Fi   \nInception                81  Action,Adventure,Sci-Fi   \nDangal                  118   Action,Biography,Drama   \nThe Dark Knight Rises   125          Action,Thriller   \n\n                                                             Description  \\\nTitle                                                                      \nInterstellar           A team of explorers travel through a wormhole ...   \nThe Dark Knight        When the menace known as the Joker wreaks havo...   \nThe Prestige           Two stage magicians engage in competitive one-...   \nInception              A thief, who steals corporate secrets through ...   \nDangal                 Former wrestler Mahavir Singh Phogat and his t...   \nThe Dark Knight Rises  Eight years after the Joker's reign of anarchy...   \n\n                                Director  \\\nTitle                                      \nInterstellar           Christopher Nolan   \nThe Dark Knight        Christopher Nolan   \nThe Prestige           Christopher Nolan   \nInception              Christopher Nolan   \nDangal                     Nitesh Tiwari   \nThe Dark Knight Rises  Christopher Nolan   \n\n                                                                  Actors  \\\nTitle                                                                      \nInterstellar           Matthew McConaughey, Anne Hathaway, Jessica Ch...   \nThe Dark Knight        Christian Bale, Heath Ledger, Aaron Eckhart,Mi...   \nThe Prestige           Christian Bale, Hugh Jackman, Scarlett Johanss...   \nInception              Leonardo DiCaprio, Joseph Gordon-Levitt, Ellen...   \nDangal                 Aamir Khan, Sakshi Tanwar, Fatima Sana Shaikh,...   \nThe Dark Knight Rises  Christian Bale, Tom Hardy, Anne Hathaway,Gary ...   \n\n                       Year  Runtime (Minutes)  Rating    Votes  \\\nTitle                                                             \nInterstellar           2014                169     8.6  1047747   \nThe Dark Knight        2008                152     9.0  1791916   \nThe Prestige           2006                130     8.5   913152   \nInception              2010                148     8.8  1583625   \nDangal                 2016                161     8.8    48969   \nThe Dark Knight Rises  2012                164     8.5  1222645   \n\n                       Revenue (Millions)  Metascore  \nTitle                                                 \nInterstellar                       187.99       74.0  \nThe Dark Knight                    533.32       82.0  \nThe Prestige                        53.08       66.0  \nInception                          292.57       74.0  \nDangal                              11.15        NaN  \nThe Dark Knight Rises              448.13       78.0  ",
      "text/html": "<div>\n<style scoped>\n    .dataframe tbody tr th:only-of-type {\n        vertical-align: middle;\n    }\n\n    .dataframe tbody tr th {\n        vertical-align: top;\n    }\n\n    .dataframe thead th {\n        text-align: right;\n    }\n</style>\n<table border=\"1\" class=\"dataframe\">\n  <thead>\n    <tr style=\"text-align: right;\">\n      <th></th>\n      <th>Rank</th>\n      <th>Genre</th>\n      <th>Description</th>\n      <th>Director</th>\n      <th>Actors</th>\n      <th>Year</th>\n      <th>Runtime (Minutes)</th>\n      <th>Rating</th>\n      <th>Votes</th>\n      <th>Revenue (Millions)</th>\n      <th>Metascore</th>\n    </tr>\n    <tr>\n      <th>Title</th>\n      <th></th>\n      <th></th>\n      <th></th>\n      <th></th>\n      <th></th>\n      <th></th>\n      <th></th>\n      <th></th>\n      <th></th>\n      <th></th>\n      <th></th>\n    </tr>\n  </thead>\n  <tbody>\n    <tr>\n      <th>Interstellar</th>\n      <td>37</td>\n      <td>Adventure,Drama,Sci-Fi</td>\n      <td>A team of explorers travel through a wormhole ...</td>\n      <td>Christopher Nolan</td>\n      <td>Matthew McConaughey, Anne Hathaway, Jessica Ch...</td>\n      <td>2014</td>\n      <td>169</td>\n      <td>8.6</td>\n      <td>1047747</td>\n      <td>187.99</td>\n      <td>74.0</td>\n    </tr>\n    <tr>\n      <th>The Dark Knight</th>\n      <td>55</td>\n      <td>Action,Crime,Drama</td>\n      <td>When the menace known as the Joker wreaks havo...</td>\n      <td>Christopher Nolan</td>\n      <td>Christian Bale, Heath Ledger, Aaron Eckhart,Mi...</td>\n      <td>2008</td>\n      <td>152</td>\n      <td>9.0</td>\n      <td>1791916</td>\n      <td>533.32</td>\n      <td>82.0</td>\n    </tr>\n    <tr>\n      <th>The Prestige</th>\n      <td>65</td>\n      <td>Drama,Mystery,Sci-Fi</td>\n      <td>Two stage magicians engage in competitive one-...</td>\n      <td>Christopher Nolan</td>\n      <td>Christian Bale, Hugh Jackman, Scarlett Johanss...</td>\n      <td>2006</td>\n      <td>130</td>\n      <td>8.5</td>\n      <td>913152</td>\n      <td>53.08</td>\n      <td>66.0</td>\n    </tr>\n    <tr>\n      <th>Inception</th>\n      <td>81</td>\n      <td>Action,Adventure,Sci-Fi</td>\n      <td>A thief, who steals corporate secrets through ...</td>\n      <td>Christopher Nolan</td>\n      <td>Leonardo DiCaprio, Joseph Gordon-Levitt, Ellen...</td>\n      <td>2010</td>\n      <td>148</td>\n      <td>8.8</td>\n      <td>1583625</td>\n      <td>292.57</td>\n      <td>74.0</td>\n    </tr>\n    <tr>\n      <th>Dangal</th>\n      <td>118</td>\n      <td>Action,Biography,Drama</td>\n      <td>Former wrestler Mahavir Singh Phogat and his t...</td>\n      <td>Nitesh Tiwari</td>\n      <td>Aamir Khan, Sakshi Tanwar, Fatima Sana Shaikh,...</td>\n      <td>2016</td>\n      <td>161</td>\n      <td>8.8</td>\n      <td>48969</td>\n      <td>11.15</td>\n      <td>NaN</td>\n    </tr>\n    <tr>\n      <th>The Dark Knight Rises</th>\n      <td>125</td>\n      <td>Action,Thriller</td>\n      <td>Eight years after the Joker's reign of anarchy...</td>\n      <td>Christopher Nolan</td>\n      <td>Christian Bale, Tom Hardy, Anne Hathaway,Gary ...</td>\n      <td>2012</td>\n      <td>164</td>\n      <td>8.5</td>\n      <td>1222645</td>\n      <td>448.13</td>\n      <td>78.0</td>\n    </tr>\n  </tbody>\n</table>\n</div>"
     },
     "execution_count": 48,
     "metadata": {},
     "output_type": "execute_result"
    }
   ],
   "source": [
    "dataframe[dataframe['Director'].isin(['Christopher Nolan', 'Nitesh Tiwari'])]\n"
   ],
   "metadata": {
    "collapsed": false,
    "pycharm": {
     "name": "#%%\n"
    }
   }
  },
  {
   "cell_type": "code",
   "execution_count": null,
   "outputs": [],
   "source": [],
   "metadata": {
    "collapsed": false,
    "pycharm": {
     "name": "#%%\n"
    }
   }
  }
 ],
 "metadata": {
  "kernelspec": {
   "display_name": "Python 3",
   "language": "python",
   "name": "python3"
  },
  "language_info": {
   "codemirror_mode": {
    "name": "ipython",
    "version": 2
   },
   "file_extension": ".py",
   "mimetype": "text/x-python",
   "name": "python",
   "nbconvert_exporter": "python",
   "pygments_lexer": "ipython2",
   "version": "2.7.6"
  }
 },
 "nbformat": 4,
 "nbformat_minor": 0
}